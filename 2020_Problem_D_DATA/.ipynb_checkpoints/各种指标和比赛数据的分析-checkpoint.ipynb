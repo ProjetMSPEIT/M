{
 "cells": [
  {
   "cell_type": "code",
   "execution_count": 1,
   "metadata": {},
   "outputs": [],
   "source": [
    "import numpy as np\n",
    "import pandas as pd\n",
    "import matplotlib as plt"
   ]
  },
  {
   "cell_type": "code",
   "execution_count": 41,
   "metadata": {},
   "outputs": [
    {
     "data": {
      "text/html": [
       "<div>\n",
       "<style scoped>\n",
       "    .dataframe tbody tr th:only-of-type {\n",
       "        vertical-align: middle;\n",
       "    }\n",
       "\n",
       "    .dataframe tbody tr th {\n",
       "        vertical-align: top;\n",
       "    }\n",
       "\n",
       "    .dataframe thead th {\n",
       "        text-align: right;\n",
       "    }\n",
       "</style>\n",
       "<table border=\"1\" class=\"dataframe\">\n",
       "  <thead>\n",
       "    <tr style=\"text-align: right;\">\n",
       "      <th></th>\n",
       "      <th>MatchID</th>\n",
       "      <th>OpponentID</th>\n",
       "      <th>Outcome</th>\n",
       "      <th>OwnScore</th>\n",
       "      <th>OpponentScore</th>\n",
       "      <th>Side</th>\n",
       "      <th>CoachID</th>\n",
       "      <th>Score</th>\n",
       "      <th>Foul</th>\n",
       "      <th>Free Kick</th>\n",
       "      <th>...</th>\n",
       "      <th>OpponentDuel</th>\n",
       "      <th>OpponentSave attempt</th>\n",
       "      <th>OpponentClearance</th>\n",
       "      <th>OpponentAcceleration</th>\n",
       "      <th>OpponentFree kick shot</th>\n",
       "      <th>OpponentPenalty</th>\n",
       "      <th>OpponentCorner</th>\n",
       "      <th>OpponentShot</th>\n",
       "      <th>OpponentPassStatus</th>\n",
       "      <th>OpponentDuelStatus</th>\n",
       "    </tr>\n",
       "  </thead>\n",
       "  <tbody>\n",
       "    <tr>\n",
       "      <th>0</th>\n",
       "      <td>1</td>\n",
       "      <td>1</td>\n",
       "      <td>1</td>\n",
       "      <td>1</td>\n",
       "      <td>0</td>\n",
       "      <td>0</td>\n",
       "      <td>1</td>\n",
       "      <td>1</td>\n",
       "      <td>13</td>\n",
       "      <td>52</td>\n",
       "      <td>...</td>\n",
       "      <td>242</td>\n",
       "      <td>4</td>\n",
       "      <td>17</td>\n",
       "      <td>5</td>\n",
       "      <td>0</td>\n",
       "      <td>0</td>\n",
       "      <td>7</td>\n",
       "      <td>10</td>\n",
       "      <td>197</td>\n",
       "      <td>130</td>\n",
       "    </tr>\n",
       "    <tr>\n",
       "      <th>1</th>\n",
       "      <td>2</td>\n",
       "      <td>2</td>\n",
       "      <td>0</td>\n",
       "      <td>1</td>\n",
       "      <td>1</td>\n",
       "      <td>1</td>\n",
       "      <td>1</td>\n",
       "      <td>0</td>\n",
       "      <td>11</td>\n",
       "      <td>52</td>\n",
       "      <td>...</td>\n",
       "      <td>194</td>\n",
       "      <td>2</td>\n",
       "      <td>4</td>\n",
       "      <td>6</td>\n",
       "      <td>1</td>\n",
       "      <td>0</td>\n",
       "      <td>7</td>\n",
       "      <td>18</td>\n",
       "      <td>416</td>\n",
       "      <td>109</td>\n",
       "    </tr>\n",
       "    <tr>\n",
       "      <th>2</th>\n",
       "      <td>3</td>\n",
       "      <td>3</td>\n",
       "      <td>-1</td>\n",
       "      <td>0</td>\n",
       "      <td>2</td>\n",
       "      <td>1</td>\n",
       "      <td>1</td>\n",
       "      <td>-2</td>\n",
       "      <td>8</td>\n",
       "      <td>39</td>\n",
       "      <td>...</td>\n",
       "      <td>194</td>\n",
       "      <td>1</td>\n",
       "      <td>16</td>\n",
       "      <td>12</td>\n",
       "      <td>0</td>\n",
       "      <td>0</td>\n",
       "      <td>6</td>\n",
       "      <td>18</td>\n",
       "      <td>471</td>\n",
       "      <td>114</td>\n",
       "    </tr>\n",
       "    <tr>\n",
       "      <th>3</th>\n",
       "      <td>4</td>\n",
       "      <td>4</td>\n",
       "      <td>-1</td>\n",
       "      <td>0</td>\n",
       "      <td>3</td>\n",
       "      <td>0</td>\n",
       "      <td>1</td>\n",
       "      <td>-3</td>\n",
       "      <td>14</td>\n",
       "      <td>46</td>\n",
       "      <td>...</td>\n",
       "      <td>221</td>\n",
       "      <td>0</td>\n",
       "      <td>17</td>\n",
       "      <td>5</td>\n",
       "      <td>1</td>\n",
       "      <td>0</td>\n",
       "      <td>3</td>\n",
       "      <td>15</td>\n",
       "      <td>345</td>\n",
       "      <td>105</td>\n",
       "    </tr>\n",
       "    <tr>\n",
       "      <th>4</th>\n",
       "      <td>5</td>\n",
       "      <td>5</td>\n",
       "      <td>-1</td>\n",
       "      <td>0</td>\n",
       "      <td>4</td>\n",
       "      <td>1</td>\n",
       "      <td>1</td>\n",
       "      <td>-4</td>\n",
       "      <td>13</td>\n",
       "      <td>37</td>\n",
       "      <td>...</td>\n",
       "      <td>199</td>\n",
       "      <td>3</td>\n",
       "      <td>10</td>\n",
       "      <td>11</td>\n",
       "      <td>2</td>\n",
       "      <td>1</td>\n",
       "      <td>4</td>\n",
       "      <td>12</td>\n",
       "      <td>373</td>\n",
       "      <td>99</td>\n",
       "    </tr>\n",
       "  </tbody>\n",
       "</table>\n",
       "<p>5 rows × 34 columns</p>\n",
       "</div>"
      ],
      "text/plain": [
       "   MatchID  OpponentID  Outcome  OwnScore  OpponentScore  Side  CoachID  \\\n",
       "0        1           1        1         1              0     0        1   \n",
       "1        2           2        0         1              1     1        1   \n",
       "2        3           3       -1         0              2     1        1   \n",
       "3        4           4       -1         0              3     0        1   \n",
       "4        5           5       -1         0              4     1        1   \n",
       "\n",
       "   Score  Foul  Free Kick  ...  OpponentDuel  OpponentSave attempt  \\\n",
       "0      1    13         52  ...           242                     4   \n",
       "1      0    11         52  ...           194                     2   \n",
       "2     -2     8         39  ...           194                     1   \n",
       "3     -3    14         46  ...           221                     0   \n",
       "4     -4    13         37  ...           199                     3   \n",
       "\n",
       "   OpponentClearance  OpponentAcceleration  OpponentFree kick shot  \\\n",
       "0                 17                     5                       0   \n",
       "1                  4                     6                       1   \n",
       "2                 16                    12                       0   \n",
       "3                 17                     5                       1   \n",
       "4                 10                    11                       2   \n",
       "\n",
       "   OpponentPenalty  OpponentCorner  OpponentShot  OpponentPassStatus  \\\n",
       "0                0               7            10                 197   \n",
       "1                0               7            18                 416   \n",
       "2                0               6            18                 471   \n",
       "3                0               3            15                 345   \n",
       "4                1               4            12                 373   \n",
       "\n",
       "   OpponentDuelStatus  \n",
       "0                 130  \n",
       "1                 109  \n",
       "2                 114  \n",
       "3                 105  \n",
       "4                  99  \n",
       "\n",
       "[5 rows x 34 columns]"
      ]
     },
     "execution_count": 41,
     "metadata": {},
     "output_type": "execute_result"
    }
   ],
   "source": [
    "# Side home=0, away=1\n",
    "# win=1,tie=0,loss=-1\n",
    "data=pd.read_csv(\"整合过一些指标的比赛数据做了数值处理.csv\")\n",
    "data.head()"
   ]
  },
  {
   "cell_type": "code",
   "execution_count": 217,
   "metadata": {},
   "outputs": [
    {
     "data": {
      "text/html": [
       "<div>\n",
       "<style scoped>\n",
       "    .dataframe tbody tr th:only-of-type {\n",
       "        vertical-align: middle;\n",
       "    }\n",
       "\n",
       "    .dataframe tbody tr th {\n",
       "        vertical-align: top;\n",
       "    }\n",
       "\n",
       "    .dataframe thead th {\n",
       "        text-align: right;\n",
       "    }\n",
       "</style>\n",
       "<table border=\"1\" class=\"dataframe\">\n",
       "  <thead>\n",
       "    <tr style=\"text-align: right;\">\n",
       "      <th></th>\n",
       "      <th>MatchID</th>\n",
       "      <th>OpponentID</th>\n",
       "      <th>Outcome</th>\n",
       "      <th>OwnScore</th>\n",
       "      <th>OpponentScore</th>\n",
       "      <th>Side</th>\n",
       "      <th>CoachID</th>\n",
       "      <th>Score</th>\n",
       "      <th>Foul</th>\n",
       "      <th>Free Kick</th>\n",
       "      <th>...</th>\n",
       "      <th>OpponentFree kick shot</th>\n",
       "      <th>OpponentPenalty</th>\n",
       "      <th>OpponentCorner</th>\n",
       "      <th>OpponentShot</th>\n",
       "      <th>OpponentPassStatus</th>\n",
       "      <th>OpponentDuelStatus</th>\n",
       "      <th>PassAccuracy</th>\n",
       "      <th>DuelAccuracy</th>\n",
       "      <th>OpponentPassAccuracy</th>\n",
       "      <th>OpponentDuelAccuracy</th>\n",
       "    </tr>\n",
       "  </thead>\n",
       "  <tbody>\n",
       "    <tr>\n",
       "      <th>0</th>\n",
       "      <td>1</td>\n",
       "      <td>1</td>\n",
       "      <td>1</td>\n",
       "      <td>1</td>\n",
       "      <td>0</td>\n",
       "      <td>0</td>\n",
       "      <td>1</td>\n",
       "      <td>1</td>\n",
       "      <td>13</td>\n",
       "      <td>52</td>\n",
       "      <td>...</td>\n",
       "      <td>0</td>\n",
       "      <td>0</td>\n",
       "      <td>7</td>\n",
       "      <td>10</td>\n",
       "      <td>197</td>\n",
       "      <td>130</td>\n",
       "      <td>0.765560</td>\n",
       "      <td>0.440678</td>\n",
       "      <td>0.408714</td>\n",
       "      <td>0.550847</td>\n",
       "    </tr>\n",
       "    <tr>\n",
       "      <th>1</th>\n",
       "      <td>2</td>\n",
       "      <td>2</td>\n",
       "      <td>0</td>\n",
       "      <td>1</td>\n",
       "      <td>1</td>\n",
       "      <td>1</td>\n",
       "      <td>1</td>\n",
       "      <td>0</td>\n",
       "      <td>11</td>\n",
       "      <td>52</td>\n",
       "      <td>...</td>\n",
       "      <td>1</td>\n",
       "      <td>0</td>\n",
       "      <td>7</td>\n",
       "      <td>18</td>\n",
       "      <td>416</td>\n",
       "      <td>109</td>\n",
       "      <td>0.652174</td>\n",
       "      <td>0.457895</td>\n",
       "      <td>1.507246</td>\n",
       "      <td>0.573684</td>\n",
       "    </tr>\n",
       "    <tr>\n",
       "      <th>2</th>\n",
       "      <td>3</td>\n",
       "      <td>3</td>\n",
       "      <td>-1</td>\n",
       "      <td>0</td>\n",
       "      <td>2</td>\n",
       "      <td>1</td>\n",
       "      <td>1</td>\n",
       "      <td>-2</td>\n",
       "      <td>8</td>\n",
       "      <td>39</td>\n",
       "      <td>...</td>\n",
       "      <td>0</td>\n",
       "      <td>0</td>\n",
       "      <td>6</td>\n",
       "      <td>18</td>\n",
       "      <td>471</td>\n",
       "      <td>114</td>\n",
       "      <td>0.773270</td>\n",
       "      <td>0.372781</td>\n",
       "      <td>1.124105</td>\n",
       "      <td>0.674556</td>\n",
       "    </tr>\n",
       "    <tr>\n",
       "      <th>3</th>\n",
       "      <td>4</td>\n",
       "      <td>4</td>\n",
       "      <td>-1</td>\n",
       "      <td>0</td>\n",
       "      <td>3</td>\n",
       "      <td>0</td>\n",
       "      <td>1</td>\n",
       "      <td>-3</td>\n",
       "      <td>14</td>\n",
       "      <td>46</td>\n",
       "      <td>...</td>\n",
       "      <td>1</td>\n",
       "      <td>0</td>\n",
       "      <td>3</td>\n",
       "      <td>15</td>\n",
       "      <td>345</td>\n",
       "      <td>105</td>\n",
       "      <td>0.793722</td>\n",
       "      <td>0.497585</td>\n",
       "      <td>0.773543</td>\n",
       "      <td>0.507246</td>\n",
       "    </tr>\n",
       "    <tr>\n",
       "      <th>4</th>\n",
       "      <td>5</td>\n",
       "      <td>5</td>\n",
       "      <td>-1</td>\n",
       "      <td>0</td>\n",
       "      <td>4</td>\n",
       "      <td>1</td>\n",
       "      <td>1</td>\n",
       "      <td>-4</td>\n",
       "      <td>13</td>\n",
       "      <td>37</td>\n",
       "      <td>...</td>\n",
       "      <td>2</td>\n",
       "      <td>1</td>\n",
       "      <td>4</td>\n",
       "      <td>12</td>\n",
       "      <td>373</td>\n",
       "      <td>99</td>\n",
       "      <td>0.814499</td>\n",
       "      <td>0.508021</td>\n",
       "      <td>0.795309</td>\n",
       "      <td>0.529412</td>\n",
       "    </tr>\n",
       "  </tbody>\n",
       "</table>\n",
       "<p>5 rows × 38 columns</p>\n",
       "</div>"
      ],
      "text/plain": [
       "   MatchID  OpponentID  Outcome  OwnScore  OpponentScore  Side  CoachID  \\\n",
       "0        1           1        1         1              0     0        1   \n",
       "1        2           2        0         1              1     1        1   \n",
       "2        3           3       -1         0              2     1        1   \n",
       "3        4           4       -1         0              3     0        1   \n",
       "4        5           5       -1         0              4     1        1   \n",
       "\n",
       "   Score  Foul  Free Kick  ...  OpponentFree kick shot  OpponentPenalty  \\\n",
       "0      1    13         52  ...                       0                0   \n",
       "1      0    11         52  ...                       1                0   \n",
       "2     -2     8         39  ...                       0                0   \n",
       "3     -3    14         46  ...                       1                0   \n",
       "4     -4    13         37  ...                       2                1   \n",
       "\n",
       "   OpponentCorner  OpponentShot  OpponentPassStatus  OpponentDuelStatus  \\\n",
       "0               7            10                 197                 130   \n",
       "1               7            18                 416                 109   \n",
       "2               6            18                 471                 114   \n",
       "3               3            15                 345                 105   \n",
       "4               4            12                 373                  99   \n",
       "\n",
       "   PassAccuracy  DuelAccuracy  OpponentPassAccuracy  OpponentDuelAccuracy  \n",
       "0      0.765560      0.440678              0.408714              0.550847  \n",
       "1      0.652174      0.457895              1.507246              0.573684  \n",
       "2      0.773270      0.372781              1.124105              0.674556  \n",
       "3      0.793722      0.497585              0.773543              0.507246  \n",
       "4      0.814499      0.508021              0.795309              0.529412  \n",
       "\n",
       "[5 rows x 38 columns]"
      ]
     },
     "execution_count": 217,
     "metadata": {},
     "output_type": "execute_result"
    }
   ],
   "source": [
    "# 对数据进行归一化得到clearData\n",
    "clearData=data.copy()\n",
    "\n",
    "#计算准确性\n",
    "for i in [\"\",\"Opponent\"]:\n",
    "    for j in [\"Pass\",\"Duel\"]:\n",
    "        clearData[i+j+\"Accuracy\"]=clearData[i+j+\"Status\"]/clearData[j]\n",
    "\n",
    "clearData.head()"
   ]
  },
  {
   "cell_type": "code",
   "execution_count": 236,
   "metadata": {},
   "outputs": [],
   "source": [
    "#依据频率，尝试制作训练数据集\n",
    "def average(a,b):\n",
    "    return a/(a+b),b/(a+b)"
   ]
  },
  {
   "cell_type": "code",
   "execution_count": 266,
   "metadata": {},
   "outputs": [
    {
     "data": {
      "text/html": [
       "<div>\n",
       "<style scoped>\n",
       "    .dataframe tbody tr th:only-of-type {\n",
       "        vertical-align: middle;\n",
       "    }\n",
       "\n",
       "    .dataframe tbody tr th {\n",
       "        vertical-align: top;\n",
       "    }\n",
       "\n",
       "    .dataframe thead th {\n",
       "        text-align: right;\n",
       "    }\n",
       "</style>\n",
       "<table border=\"1\" class=\"dataframe\">\n",
       "  <thead>\n",
       "    <tr style=\"text-align: right;\">\n",
       "      <th></th>\n",
       "      <th>OpponentID</th>\n",
       "      <th>Outcome</th>\n",
       "      <th>Side</th>\n",
       "      <th>CoachID</th>\n",
       "      <th>Score</th>\n",
       "      <th>PassAccuracy</th>\n",
       "      <th>DuelAccuracy</th>\n",
       "      <th>OpponentPassAccuracy</th>\n",
       "      <th>OpponentDuelAccuracy</th>\n",
       "      <th>FoulFrequency</th>\n",
       "      <th>...</th>\n",
       "      <th>AccelerationFrequency</th>\n",
       "      <th>OpponentAccelerationFrequency</th>\n",
       "      <th>CornerFrequency</th>\n",
       "      <th>OpponentCornerFrequency</th>\n",
       "      <th>ShotFrequency</th>\n",
       "      <th>OpponentShotFrequency</th>\n",
       "      <th>PassStatusFrequency</th>\n",
       "      <th>OpponentPassStatusFrequency</th>\n",
       "      <th>DuelStatusFrequency</th>\n",
       "      <th>OpponentDuelStatusFrequency</th>\n",
       "    </tr>\n",
       "  </thead>\n",
       "  <tbody>\n",
       "    <tr>\n",
       "      <th>0</th>\n",
       "      <td>1</td>\n",
       "      <td>1</td>\n",
       "      <td>0</td>\n",
       "      <td>1</td>\n",
       "      <td>1</td>\n",
       "      <td>0.765560</td>\n",
       "      <td>0.440678</td>\n",
       "      <td>0.408714</td>\n",
       "      <td>0.550847</td>\n",
       "      <td>0.565217</td>\n",
       "      <td>...</td>\n",
       "      <td>0.375000</td>\n",
       "      <td>0.625000</td>\n",
       "      <td>0.461538</td>\n",
       "      <td>0.538462</td>\n",
       "      <td>0.444444</td>\n",
       "      <td>0.555556</td>\n",
       "      <td>0.651943</td>\n",
       "      <td>0.348057</td>\n",
       "      <td>0.444444</td>\n",
       "      <td>0.555556</td>\n",
       "    </tr>\n",
       "    <tr>\n",
       "      <th>1</th>\n",
       "      <td>2</td>\n",
       "      <td>0</td>\n",
       "      <td>1</td>\n",
       "      <td>1</td>\n",
       "      <td>0</td>\n",
       "      <td>0.652174</td>\n",
       "      <td>0.457895</td>\n",
       "      <td>1.507246</td>\n",
       "      <td>0.573684</td>\n",
       "      <td>0.611111</td>\n",
       "      <td>...</td>\n",
       "      <td>0.454545</td>\n",
       "      <td>0.545455</td>\n",
       "      <td>0.125000</td>\n",
       "      <td>0.875000</td>\n",
       "      <td>0.280000</td>\n",
       "      <td>0.720000</td>\n",
       "      <td>0.302013</td>\n",
       "      <td>0.697987</td>\n",
       "      <td>0.443878</td>\n",
       "      <td>0.556122</td>\n",
       "    </tr>\n",
       "    <tr>\n",
       "      <th>2</th>\n",
       "      <td>3</td>\n",
       "      <td>-1</td>\n",
       "      <td>1</td>\n",
       "      <td>1</td>\n",
       "      <td>-2</td>\n",
       "      <td>0.773270</td>\n",
       "      <td>0.372781</td>\n",
       "      <td>1.124105</td>\n",
       "      <td>0.674556</td>\n",
       "      <td>0.421053</td>\n",
       "      <td>...</td>\n",
       "      <td>0.076923</td>\n",
       "      <td>0.923077</td>\n",
       "      <td>0.333333</td>\n",
       "      <td>0.666667</td>\n",
       "      <td>0.280000</td>\n",
       "      <td>0.720000</td>\n",
       "      <td>0.407547</td>\n",
       "      <td>0.592453</td>\n",
       "      <td>0.355932</td>\n",
       "      <td>0.644068</td>\n",
       "    </tr>\n",
       "    <tr>\n",
       "      <th>3</th>\n",
       "      <td>4</td>\n",
       "      <td>-1</td>\n",
       "      <td>0</td>\n",
       "      <td>1</td>\n",
       "      <td>-3</td>\n",
       "      <td>0.793722</td>\n",
       "      <td>0.497585</td>\n",
       "      <td>0.773543</td>\n",
       "      <td>0.507246</td>\n",
       "      <td>0.518519</td>\n",
       "      <td>...</td>\n",
       "      <td>0.285714</td>\n",
       "      <td>0.714286</td>\n",
       "      <td>0.700000</td>\n",
       "      <td>0.300000</td>\n",
       "      <td>0.375000</td>\n",
       "      <td>0.625000</td>\n",
       "      <td>0.506438</td>\n",
       "      <td>0.493562</td>\n",
       "      <td>0.495192</td>\n",
       "      <td>0.504808</td>\n",
       "    </tr>\n",
       "    <tr>\n",
       "      <th>4</th>\n",
       "      <td>5</td>\n",
       "      <td>-1</td>\n",
       "      <td>1</td>\n",
       "      <td>1</td>\n",
       "      <td>-4</td>\n",
       "      <td>0.814499</td>\n",
       "      <td>0.508021</td>\n",
       "      <td>0.795309</td>\n",
       "      <td>0.529412</td>\n",
       "      <td>0.464286</td>\n",
       "      <td>...</td>\n",
       "      <td>0.214286</td>\n",
       "      <td>0.785714</td>\n",
       "      <td>0.200000</td>\n",
       "      <td>0.800000</td>\n",
       "      <td>0.333333</td>\n",
       "      <td>0.666667</td>\n",
       "      <td>0.505960</td>\n",
       "      <td>0.494040</td>\n",
       "      <td>0.489691</td>\n",
       "      <td>0.510309</td>\n",
       "    </tr>\n",
       "  </tbody>\n",
       "</table>\n",
       "<p>5 rows × 31 columns</p>\n",
       "</div>"
      ],
      "text/plain": [
       "   OpponentID  Outcome  Side  CoachID  Score  PassAccuracy  DuelAccuracy  \\\n",
       "0           1        1     0        1      1      0.765560      0.440678   \n",
       "1           2        0     1        1      0      0.652174      0.457895   \n",
       "2           3       -1     1        1     -2      0.773270      0.372781   \n",
       "3           4       -1     0        1     -3      0.793722      0.497585   \n",
       "4           5       -1     1        1     -4      0.814499      0.508021   \n",
       "\n",
       "   OpponentPassAccuracy  OpponentDuelAccuracy  FoulFrequency  ...  \\\n",
       "0              0.408714              0.550847       0.565217  ...   \n",
       "1              1.507246              0.573684       0.611111  ...   \n",
       "2              1.124105              0.674556       0.421053  ...   \n",
       "3              0.773543              0.507246       0.518519  ...   \n",
       "4              0.795309              0.529412       0.464286  ...   \n",
       "\n",
       "   AccelerationFrequency  OpponentAccelerationFrequency  CornerFrequency  \\\n",
       "0               0.375000                       0.625000         0.461538   \n",
       "1               0.454545                       0.545455         0.125000   \n",
       "2               0.076923                       0.923077         0.333333   \n",
       "3               0.285714                       0.714286         0.700000   \n",
       "4               0.214286                       0.785714         0.200000   \n",
       "\n",
       "   OpponentCornerFrequency  ShotFrequency  OpponentShotFrequency  \\\n",
       "0                 0.538462       0.444444               0.555556   \n",
       "1                 0.875000       0.280000               0.720000   \n",
       "2                 0.666667       0.280000               0.720000   \n",
       "3                 0.300000       0.375000               0.625000   \n",
       "4                 0.800000       0.333333               0.666667   \n",
       "\n",
       "   PassStatusFrequency  OpponentPassStatusFrequency  DuelStatusFrequency  \\\n",
       "0             0.651943                     0.348057             0.444444   \n",
       "1             0.302013                     0.697987             0.443878   \n",
       "2             0.407547                     0.592453             0.355932   \n",
       "3             0.506438                     0.493562             0.495192   \n",
       "4             0.505960                     0.494040             0.489691   \n",
       "\n",
       "   OpponentDuelStatusFrequency  \n",
       "0                     0.555556  \n",
       "1                     0.556122  \n",
       "2                     0.644068  \n",
       "3                     0.504808  \n",
       "4                     0.510309  \n",
       "\n",
       "[5 rows x 31 columns]"
      ]
     },
     "execution_count": 266,
     "metadata": {},
     "output_type": "execute_result"
    }
   ],
   "source": [
    "frequencyData=clearData.copy()\n",
    "name=[\"Foul\",\"Free Kick\",\"Pass\",\"Duel\",\"Save attempt\",\"Clearance\",\"Acceleration\",\"Free kick shot\",\"Penalty\",\"Corner\",\"Shot\",\"PassStatus\",\"DuelStatus\"]\n",
    "for i in name:\n",
    "    temp=average(frequencyData[i],frequencyData[\"Opponent\"+i])\n",
    "    frequencyData[i+\"Frequency\"]=temp[0]\n",
    "    frequencyData[\"Opponent\"+i+\"Frequency\"]=temp[1]\n",
    "frequencyData=frequencyData.drop(name,axis=1)\n",
    "frequencyData=frequencyData.drop([\"Opponent\"+i for i in name],axis=1)\n",
    "frequencyData=frequencyData.drop(['MatchID','OwnScore', 'OpponentScore'],axis=1)\n",
    "frequencyData=frequencyData.dropna(axis=1) #只要有缺失值就去掉那列\n",
    "frequencyData.head()"
   ]
  },
  {
   "cell_type": "markdown",
   "metadata": {},
   "source": [
    "### frequencyData预测比分"
   ]
  },
  {
   "cell_type": "code",
   "execution_count": null,
   "metadata": {},
   "outputs": [],
   "source": []
  },
  {
   "cell_type": "code",
   "execution_count": 271,
   "metadata": {},
   "outputs": [
    {
     "data": {
      "image/png": "[encoded data removed]",
      "text/plain": [
       "<Figure size 1008x432 with 1 Axes>"
      ]
     },
     "metadata": {
      "needs_background": "light"
     },
     "output_type": "display_data"
    }
   ],
   "source": [
    "#预测比分\n",
    "import matplotlib.pyplot as plt\n",
    "from sklearn.feature_selection import SelectKBest, f_classif\n",
    "featureName=['OpponentID','Side',\n",
    "       'CoachID', 'PassAccuracy', 'DuelAccuracy',\n",
    "       'OpponentPassAccuracy', 'OpponentDuelAccuracy', 'FoulFrequency',\n",
    "       'OpponentFoulFrequency', 'Free KickFrequency',\n",
    "       'OpponentFree KickFrequency', 'PassFrequency', 'OpponentPassFrequency',\n",
    "       'DuelFrequency', 'OpponentDuelFrequency', 'Save attemptFrequency',\n",
    "       'OpponentSave attemptFrequency', 'ClearanceFrequency',\n",
    "       'OpponentClearanceFrequency', 'AccelerationFrequency',\n",
    "       'OpponentAccelerationFrequency', 'CornerFrequency',\n",
    "       'OpponentCornerFrequency', 'ShotFrequency', 'OpponentShotFrequency',\n",
    "       'PassStatusFrequency', 'OpponentPassStatusFrequency',\n",
    "       'DuelStatusFrequency', 'OpponentDuelStatusFrequency']\n",
    "\n",
    "# Perform feature selection\n",
    "selector = SelectKBest(f_classif, k=5)\n",
    "selector.fit(frequencyData[featureName], frequencyData[\"Score\"])\n",
    "\n",
    "# Get the raw p-values for each feature, and transform from p-values into scores\n",
    "scores = -np.log10(selector.pvalues_)\n",
    "\n",
    "# Plot the scores.  See how \"Pclass\", \"Sex\", \"Title\", and \"Fare\" are the best?\n",
    "fig = plt.figure(figsize=(14,6))\n",
    "plt.bar(range(len(featureName)), scores)\n",
    "plt.xticks(range(len(featureName)), featureName, rotation='vertical')\n",
    "plt.plot(np.linspace(0,len(featureName),10000),[1.5 for i in range(10000)],'-',c='red')\n",
    "plt.show()"
   ]
  },
  {
   "cell_type": "markdown",
   "metadata": {},
   "source": [
    "### ClearData预测比分"
   ]
  },
  {
   "cell_type": "code",
   "execution_count": 251,
   "metadata": {},
   "outputs": [
    {
     "data": {
      "image/png": "[encoded data removed]",
      "text/plain": [
       "<Figure size 1008x432 with 1 Axes>"
      ]
     },
     "metadata": {
      "needs_background": "light"
     },
     "output_type": "display_data"
    }
   ],
   "source": [
    "#预测比分\n",
    "import matplotlib.pyplot as plt\n",
    "from sklearn.feature_selection import SelectKBest, f_classif\n",
    "featureName=['OpponentID', 'Side', 'CoachID', \n",
    "             'Foul', 'Free Kick', 'Pass', 'Duel', 'Save attempt',\n",
    "               'Clearance', 'Acceleration', 'Free kick shot', 'Penalty', 'Corner',\n",
    "               'Shot', 'PassStatus', 'DuelStatus', 'OpponentFoul', 'OpponentFree Kick',\n",
    "               'OpponentPass', 'OpponentDuel', 'OpponentSave attempt',\n",
    "               'OpponentClearance', 'OpponentAcceleration', 'OpponentFree kick shot',\n",
    "               'OpponentPenalty', 'OpponentCorner', 'OpponentShot',\n",
    "               'OpponentPassStatus', 'OpponentDuelStatus', 'PassAccuracy',\n",
    "               'DuelAccuracy', 'OpponentPassAccuracy', 'OpponentDuelAccuracy']\n",
    "\n",
    "# Perform feature selection\n",
    "selector = SelectKBest(f_classif, k=5)\n",
    "selector.fit(clearData[featureName], clearData[\"Score\"])\n",
    "\n",
    "# Get the raw p-values for each feature, and transform from p-values into scores\n",
    "scores = -np.log10(selector.pvalues_)\n",
    "\n",
    "# Plot the scores.  See how \"Pclass\", \"Sex\", \"Title\", and \"Fare\" are the best?\n",
    "fig = plt.figure(figsize=(14,6))\n",
    "plt.bar(range(len(featureName)), scores)\n",
    "plt.xticks(range(len(featureName)), featureName, rotation='vertical')\n",
    "plt.plot(np.linspace(0,len(featureName),10000),[1.5 for i in range(10000)],'-',c='red')\n",
    "plt.show()"
   ]
  },
  {
   "cell_type": "code",
   "execution_count": 54,
   "metadata": {},
   "outputs": [],
   "source": [
    "selecfeatrueName1=[\"Duel\",\"Save attempt\",\"DuelStatus\",\"OpponentShot\",\"OpponentPassStatus\",\"OpponentDuelAccuracy\"]"
   ]
  },
  {
   "cell_type": "code",
   "execution_count": 51,
   "metadata": {},
   "outputs": [
    {
     "data": {
      "image/png": "[encoded data removed]",
      "text/plain": [
       "<Figure size 1008x432 with 1 Axes>"
      ]
     },
     "metadata": {
      "needs_background": "light"
     },
     "output_type": "display_data"
    }
   ],
   "source": [
    "#预测输赢\n",
    "import matplotlib.pyplot as plt\n",
    "from sklearn.feature_selection import SelectKBest, f_classif\n",
    "featureName=['OpponentID', 'Side', 'CoachID', \n",
    "             'Foul', 'Free Kick', 'Pass', 'Duel', 'Save attempt',\n",
    "               'Clearance', 'Acceleration', 'Free kick shot', 'Penalty', 'Corner',\n",
    "               'Shot', 'PassStatus', 'DuelStatus', 'OpponentFoul', 'OpponentFree Kick',\n",
    "               'OpponentPass', 'OpponentDuel', 'OpponentSave attempt',\n",
    "               'OpponentClearance', 'OpponentAcceleration', 'OpponentFree kick shot',\n",
    "               'OpponentPenalty', 'OpponentCorner', 'OpponentShot',\n",
    "               'OpponentPassStatus', 'OpponentDuelStatus', 'PassAccuracy',\n",
    "               'DuelAccuracy', 'OpponentPassAccuracy', 'OpponentDuelAccuracy']\n",
    "\n",
    "# Perform feature selection\n",
    "selector = SelectKBest(f_classif, k=5)\n",
    "selector.fit(clearData[featureName], clearData[\"Outcome\"])\n",
    "\n",
    "# Get the raw p-values for each feature, and transform from p-values into scores\n",
    "scores = -np.log10(selector.pvalues_)\n",
    "\n",
    "# Plot the scores.  See how \"Pclass\", \"Sex\", \"Title\", and \"Fare\" are the best?\n",
    "fig = plt.figure(figsize=(14,6))\n",
    "plt.bar(range(len(featureName)), scores)\n",
    "plt.xticks(range(len(featureName)), featureName, rotation='vertical')\n",
    "plt.plot(np.linspace(0,len(featureName),10000),[1.5 for i in range(10000)],'-',c='red')\n",
    "plt.show()"
   ]
  },
  {
   "cell_type": "code",
   "execution_count": 53,
   "metadata": {},
   "outputs": [],
   "source": [
    "selecfeatrueName2=[\"Corner\",\"OpponentSave attempt\",\"OpponentShot\"]"
   ]
  },
  {
   "cell_type": "markdown",
   "metadata": {},
   "source": [
    "## 不做特征选取时的各种预测器预测比分的准确性"
   ]
  },
  {
   "cell_type": "code",
   "execution_count": 147,
   "metadata": {},
   "outputs": [],
   "source": [
    "#导入原始数据\n",
    "X=clearData[featureName]\n",
    "Y=clearData[\"Score\"]"
   ]
  },
  {
   "cell_type": "code",
   "execution_count": 148,
   "metadata": {},
   "outputs": [],
   "source": [
    "#标准化数据\n",
    "from sklearn.preprocessing import StandardScaler\n",
    "scaler = StandardScaler()\n",
    "X_scaled = scaler.fit_transform(X)"
   ]
  },
  {
   "cell_type": "code",
   "execution_count": 149,
   "metadata": {},
   "outputs": [
    {
     "name": "stdout",
     "output_type": "stream",
     "text": [
      "0.23931623931623933\n"
     ]
    }
   ],
   "source": [
    "#采用随机森林的模型\n",
    "from sklearn import model_selection\n",
    "from sklearn.ensemble import RandomForestClassifier\n",
    "\n",
    "alg = RandomForestClassifier(random_state=1,n_estimators=100,min_samples_split=2,min_samples_leaf=1)\n",
    "kf = model_selection.KFold(n_splits=3, random_state=1,shuffle=True) #指定random_state,每次分割的数据集合是一样的\n",
    "scores = model_selection.cross_val_score(alg, X_scaled, Y, cv=kf,scoring='accuracy') #这里cv=3也是一样的效果。\n",
    "print(np.mean(scores))"
   ]
  },
  {
   "cell_type": "code",
   "execution_count": 150,
   "metadata": {},
   "outputs": [
    {
     "name": "stdout",
     "output_type": "stream",
     "text": [
      "0.2670940170940171\n"
     ]
    }
   ],
   "source": [
    "#支持向量机\n",
    "from sklearn.svm import SVC #Support vector classifier\n",
    "alg = SVC(kernel='rbf',C=1.155,gamma=0.1) #高斯核变换,C是软间隔\n",
    "kf = model_selection.KFold(n_splits=3, random_state=1,shuffle=True) #指定random_state,每次分割的数据集合是一样的\n",
    "scores = model_selection.cross_val_score(alg, X_scaled, Y, cv=kf,scoring='accuracy') #这里cv=3也是一样的效果。\n",
    "print(np.mean(scores))"
   ]
  },
  {
   "cell_type": "code",
   "execution_count": 185,
   "metadata": {},
   "outputs": [
    {
     "name": "stdout",
     "output_type": "stream",
     "text": [
      "0.655982905982906\n"
     ]
    },
    {
     "name": "stderr",
     "output_type": "stream",
     "text": [
      "/usr/local/lib/python3.7/site-packages/sklearn/linear_model/_logistic.py:940: ConvergenceWarning: lbfgs failed to converge (status=1):\n",
      "STOP: TOTAL NO. of ITERATIONS REACHED LIMIT.\n",
      "\n",
      "Increase the number of iterations (max_iter) or scale the data as shown in:\n",
      "    https://scikit-learn.org/stable/modules/preprocessing.html\n",
      "Please also refer to the documentation for alternative solver options:\n",
      "    https://scikit-learn.org/stable/modules/linear_model.html#logistic-regression\n",
      "  extra_warning_msg=_LOGISTIC_SOLVER_CONVERGENCE_MSG)\n",
      "/usr/local/lib/python3.7/site-packages/sklearn/linear_model/_logistic.py:940: ConvergenceWarning: lbfgs failed to converge (status=1):\n",
      "STOP: TOTAL NO. of ITERATIONS REACHED LIMIT.\n",
      "\n",
      "Increase the number of iterations (max_iter) or scale the data as shown in:\n",
      "    https://scikit-learn.org/stable/modules/preprocessing.html\n",
      "Please also refer to the documentation for alternative solver options:\n",
      "    https://scikit-learn.org/stable/modules/linear_model.html#logistic-regression\n",
      "  extra_warning_msg=_LOGISTIC_SOLVER_CONVERGENCE_MSG)\n",
      "/usr/local/lib/python3.7/site-packages/sklearn/linear_model/_logistic.py:940: ConvergenceWarning: lbfgs failed to converge (status=1):\n",
      "STOP: TOTAL NO. of ITERATIONS REACHED LIMIT.\n",
      "\n",
      "Increase the number of iterations (max_iter) or scale the data as shown in:\n",
      "    https://scikit-learn.org/stable/modules/preprocessing.html\n",
      "Please also refer to the documentation for alternative solver options:\n",
      "    https://scikit-learn.org/stable/modules/linear_model.html#logistic-regression\n",
      "  extra_warning_msg=_LOGISTIC_SOLVER_CONVERGENCE_MSG)\n"
     ]
    }
   ],
   "source": [
    "#逻辑回归\n",
    "from sklearn.linear_model import LogisticRegression\n",
    "#创建逻辑回归的例子，用惩罚力度0.01的L2正则惩罚项目\n",
    "alg = LogisticRegression(C = 0.1, penalty = 'l2') \n",
    "kf = model_selection.KFold(n_splits=3, random_state=1,shuffle=True) #指定random_state,每次分割的数据集合是一样的\n",
    "scores = model_selection.cross_val_score(alg, X, Y, cv=kf,scoring='accuracy') #这里cv=3也是一样的效果。\n",
    "print(np.mean(scores))"
   ]
  },
  {
   "cell_type": "code",
   "execution_count": null,
   "metadata": {},
   "outputs": [],
   "source": []
  },
  {
   "cell_type": "markdown",
   "metadata": {},
   "source": [
    "## 不做特征选取时的各种预测器预测输赢的准确性"
   ]
  },
  {
   "cell_type": "code",
   "execution_count": 188,
   "metadata": {},
   "outputs": [],
   "source": [
    "#导入原始数据\n",
    "X=clearData[featureName]\n",
    "Y=clearData[\"Outcome\"]"
   ]
  },
  {
   "cell_type": "code",
   "execution_count": 189,
   "metadata": {},
   "outputs": [],
   "source": [
    "#标准化数据\n",
    "from sklearn.preprocessing import StandardScaler\n",
    "scaler = StandardScaler()\n",
    "X_scaled = scaler.fit_transform(X)"
   ]
  },
  {
   "cell_type": "code",
   "execution_count": 190,
   "metadata": {},
   "outputs": [
    {
     "name": "stdout",
     "output_type": "stream",
     "text": [
      "0.4188034188034188\n"
     ]
    }
   ],
   "source": [
    "#采用随机森林的模型\n",
    "from sklearn import model_selection\n",
    "from sklearn.ensemble import RandomForestClassifier\n",
    "\n",
    "alg = RandomForestClassifier(random_state=1,n_estimators=100,min_samples_split=2,min_samples_leaf=1)\n",
    "kf = model_selection.KFold(n_splits=3, random_state=1,shuffle=True) #指定random_state,每次分割的数据集合是一样的\n",
    "scores = model_selection.cross_val_score(alg, X_scaled, Y, cv=kf,scoring='accuracy') #这里cv=3也是一样的效果。\n",
    "print(np.mean(scores))"
   ]
  },
  {
   "cell_type": "code",
   "execution_count": 191,
   "metadata": {},
   "outputs": [
    {
     "name": "stdout",
     "output_type": "stream",
     "text": [
      "0.5256410256410257\n"
     ]
    }
   ],
   "source": [
    "#支持向量机\n",
    "from sklearn.svm import SVC #Support vector classifier\n",
    "alg = SVC(kernel='rbf',C=1.155) #高斯核变换,C是软间隔\n",
    "kf = model_selection.KFold(n_splits=3, random_state=1,shuffle=True) #指定random_state,每次分割的数据集合是一样的\n",
    "scores = model_selection.cross_val_score(alg, X_scaled, Y, cv=kf,scoring='accuracy') #这里cv=3也是一样的效果。\n",
    "print(np.mean(scores))"
   ]
  },
  {
   "cell_type": "code",
   "execution_count": 193,
   "metadata": {},
   "outputs": [
    {
     "name": "stdout",
     "output_type": "stream",
     "text": [
      "0.576923076923077\n"
     ]
    }
   ],
   "source": [
    "#逻辑回归\n",
    "from sklearn.linear_model import LogisticRegression\n",
    "#创建逻辑回归的例子，用惩罚力度0.01的L2正则惩罚项目\n",
    "alg = LogisticRegression(C = 0.1, penalty = 'l2') \n",
    "kf = model_selection.KFold(n_splits=3, random_state=1,shuffle=True) #指定random_state,每次分割的数据集合是一样的\n",
    "scores = model_selection.cross_val_score(alg, X_scaled, Y, cv=kf,scoring='accuracy') #这里cv=3也是一样的效果。\n",
    "print(np.mean(scores))"
   ]
  },
  {
   "cell_type": "markdown",
   "metadata": {},
   "source": [
    "## 做了特征选取后各种预测器预测比分的准确性"
   ]
  },
  {
   "cell_type": "code",
   "execution_count": 195,
   "metadata": {},
   "outputs": [],
   "source": [
    "X=clearData[selecfeatrueName1]\n",
    "Y=clearData[\"Score\"]"
   ]
  },
  {
   "cell_type": "code",
   "execution_count": 196,
   "metadata": {},
   "outputs": [],
   "source": [
    "#标准化数据\n",
    "from sklearn.preprocessing import StandardScaler\n",
    "scaler = StandardScaler()\n",
    "X_scaled = scaler.fit_transform(X)"
   ]
  },
  {
   "cell_type": "code",
   "execution_count": 197,
   "metadata": {},
   "outputs": [
    {
     "name": "stdout",
     "output_type": "stream",
     "text": [
      "0.18376068376068377\n"
     ]
    }
   ],
   "source": [
    "#采用随机森林的模型\n",
    "from sklearn import model_selection\n",
    "from sklearn.ensemble import RandomForestClassifier\n",
    "\n",
    "alg = RandomForestClassifier(random_state=1,n_estimators=100,min_samples_split=2,min_samples_leaf=1)\n",
    "kf = model_selection.KFold(n_splits=3, random_state=1,shuffle=True) #指定random_state,每次分割的数据集合是一样的\n",
    "scores = model_selection.cross_val_score(alg, X_scaled, Y, cv=kf,scoring='accuracy') #这里cv=3也是一样的效果。\n",
    "print(np.mean(scores))"
   ]
  },
  {
   "cell_type": "code",
   "execution_count": 198,
   "metadata": {},
   "outputs": [
    {
     "name": "stdout",
     "output_type": "stream",
     "text": [
      "0.2094017094017094\n"
     ]
    }
   ],
   "source": [
    "#支持向量机\n",
    "from sklearn.svm import SVC #Support vector classifier\n",
    "alg = SVC(kernel='rbf',C=1.155,gamma=0.1) #高斯核变换,C是软间隔\n",
    "kf = model_selection.KFold(n_splits=3, random_state=1,shuffle=True) #指定random_state,每次分割的数据集合是一样的\n",
    "scores = model_selection.cross_val_score(alg, X_scaled, Y, cv=kf,scoring='accuracy') #这里cv=3也是一样的效果。\n",
    "print(np.mean(scores))"
   ]
  },
  {
   "cell_type": "code",
   "execution_count": 206,
   "metadata": {},
   "outputs": [
    {
     "name": "stdout",
     "output_type": "stream",
     "text": [
      "0.34188034188034183\n"
     ]
    }
   ],
   "source": [
    "#逻辑回归\n",
    "from sklearn.linear_model import LogisticRegression\n",
    "#创建逻辑回归的例子，用惩罚力度0.01的L2正则惩罚项目\n",
    "alg = LogisticRegression(C = 1, penalty = 'l2') \n",
    "kf = model_selection.KFold(n_splits=3, random_state=1,shuffle=True) #指定random_state,每次分割的数据集合是一样的\n",
    "scores = model_selection.cross_val_score(alg, X_scaled, Y, cv=kf,scoring='accuracy') #这里cv=3也是一样的效果。\n",
    "print(np.mean(scores))"
   ]
  },
  {
   "cell_type": "markdown",
   "metadata": {},
   "source": [
    "## 做了特征选取后各种预测器预测输赢的准确性"
   ]
  },
  {
   "cell_type": "code",
   "execution_count": 207,
   "metadata": {},
   "outputs": [],
   "source": [
    "X=clearData[selecfeatrueName1]\n",
    "Y=clearData[\"Outcome\"]"
   ]
  },
  {
   "cell_type": "code",
   "execution_count": 208,
   "metadata": {},
   "outputs": [],
   "source": [
    "#标准化数据\n",
    "from sklearn.preprocessing import StandardScaler\n",
    "scaler = StandardScaler()\n",
    "X_scaled = scaler.fit_transform(X)"
   ]
  },
  {
   "cell_type": "code",
   "execution_count": 209,
   "metadata": {},
   "outputs": [
    {
     "name": "stdout",
     "output_type": "stream",
     "text": [
      "0.5\n"
     ]
    }
   ],
   "source": [
    "#采用随机森林的模型\n",
    "from sklearn import model_selection\n",
    "from sklearn.ensemble import RandomForestClassifier\n",
    "\n",
    "alg = RandomForestClassifier(random_state=1,n_estimators=100,min_samples_split=2)\n",
    "kf = model_selection.KFold(n_splits=3, random_state=1,shuffle=True) #指定random_state,每次分割的数据集合是一样的\n",
    "scores = model_selection.cross_val_score(alg, X, Y, cv=kf,scoring='accuracy') #这里cv=3也是一样的效果。\n",
    "print(np.mean(scores))"
   ]
  },
  {
   "cell_type": "code",
   "execution_count": 210,
   "metadata": {},
   "outputs": [
    {
     "name": "stdout",
     "output_type": "stream",
     "text": [
      "0.5\n"
     ]
    }
   ],
   "source": [
    "#支持向量机\n",
    "from sklearn.svm import SVC #Support vector classifier\n",
    "alg = SVC(kernel='rbf',C=1.155,gamma=0.1) #高斯核变换,C是软间隔\n",
    "kf = model_selection.KFold(n_splits=3, random_state=1,shuffle=True) #指定random_state,每次分割的数据集合是一样的\n",
    "scores = model_selection.cross_val_score(alg, X_scaled, Y, cv=kf,scoring='accuracy') #这里cv=3也是一样的效果。\n",
    "print(np.mean(scores))"
   ]
  },
  {
   "cell_type": "code",
   "execution_count": 216,
   "metadata": {},
   "outputs": [
    {
     "name": "stdout",
     "output_type": "stream",
     "text": [
      "0.5235042735042735\n"
     ]
    }
   ],
   "source": [
    "#逻辑回归\n",
    "from sklearn.linear_model import LogisticRegression\n",
    "#创建逻辑回归的例子，用惩罚力度0.01的L2正则惩罚项目\n",
    "alg = LogisticRegression(C = 0.1, penalty = 'l2') \n",
    "kf = model_selection.KFold(n_splits=3, random_state=1,shuffle=True) #指定random_state,每次分割的数据集合是一样的\n",
    "scores = model_selection.cross_val_score(alg, X_scaled, Y, cv=kf,scoring='accuracy') #这里cv=3也是一样的效果。\n",
    "print(np.mean(scores))"
   ]
  },
  {
   "cell_type": "markdown",
   "metadata": {},
   "source": [
    "## 看每个Coach的风格"
   ]
  },
  {
   "cell_type": "code",
   "execution_count": 275,
   "metadata": {},
   "outputs": [],
   "source": [
    "clearData.groupby(\"CoachID\").mean().to_csv(\"不同教练的风格.csv\",index=1)"
   ]
  },
  {
   "cell_type": "markdown",
   "metadata": {},
   "source": [
    "## 尝试用scatter_matrix不同教练的风格"
   ]
  },
  {
   "cell_type": "code",
   "execution_count": 278,
   "metadata": {},
   "outputs": [],
   "source": [
    "clearData.columns\n",
    "target=['Foul', 'Free Kick', 'Pass', 'Duel', 'Save attempt',\n",
    "       'Clearance', 'Acceleration', 'Free kick shot', 'Penalty', 'Corner',\n",
    "       'Shot', 'PassStatus', 'DuelStatus', 'OpponentFoul', 'OpponentFree Kick',\n",
    "       'OpponentPass', 'OpponentDuel', 'OpponentSave attempt',\n",
    "       'OpponentClearance', 'OpponentAcceleration', 'OpponentFree kick shot',\n",
    "       'OpponentPenalty', 'OpponentCorner', 'OpponentShot',\n",
    "       'OpponentPassStatus', 'OpponentDuelStatus', 'PassAccuracy',\n",
    "       'DuelAccuracy', 'OpponentPassAccuracy', 'OpponentDuelAccuracy']"
   ]
  },
  {
   "cell_type": "code",
   "execution_count": 285,
   "metadata": {},
   "outputs": [
    {
     "data": {
      "image/png": "[encoded data removed]",
      "text/plain": [
       "<Figure size 720x720 with 25 Axes>"
      ]
     },
     "metadata": {
      "needs_background": "light"
     },
     "output_type": "display_data"
    }
   ],
   "source": [
    "#结果展示\n",
    "#scatter_matrix\n",
    "from pandas.plotting import scatter_matrix\n",
    "colors = np.array(['red', 'green', 'blue'])\n",
    "scatter_matrix(clearData[target[10:15]],s=100, alpha=1, c=colors[clearData[\"CoachID\"].values-1], figsize=(10,10))\n",
    "plt.suptitle(\"Compare Different Coach\")\n",
    "plt.show()"
   ]
  },
  {
   "cell_type": "markdown",
   "metadata": {},
   "source": [
    "## 看每个对手的风格"
   ]
  },
  {
   "cell_type": "code",
   "execution_count": 276,
   "metadata": {},
   "outputs": [],
   "source": [
    "clearData.groupby(\"OpponentID\").mean().to_csv(\"不同对手的风格.csv\",index=1)"
   ]
  },
  {
   "cell_type": "code",
   "execution_count": 286,
   "metadata": {},
   "outputs": [
    {
     "data": {
      "image/png": "[encoded data removed]",
      "text/plain": [
       "<Figure size 720x720 with 25 Axes>"
      ]
     },
     "metadata": {
      "needs_background": "light"
     },
     "output_type": "display_data"
    }
   ],
   "source": [
    "#结果展示\n",
    "#scatter_matrix\n",
    "from pandas.plotting import scatter_matrix\n",
    "scatter_matrix(clearData[target[0:5]],s=100, alpha=1, c=clearData[\"OpponentID\"].values, figsize=(10,10))\n",
    "plt.suptitle(\"Compare Different Opponent\")\n",
    "plt.show()"
   ]
  },
  {
   "cell_type": "markdown",
   "metadata": {},
   "source": [
    "## 因子分析模型测试\n",
    "- 参考：\n",
    "    - https://blog.csdn.net/weixin_40683253/article/details/84635404\n",
    "    - https://mathpretty.com/10994.html"
   ]
  },
  {
   "cell_type": "code",
   "execution_count": 288,
   "metadata": {},
   "outputs": [
    {
     "data": {
      "text/plain": [
       "Index(['MatchID', 'OpponentID', 'Outcome', 'OwnScore', 'OpponentScore', 'Side',\n",
       "       'CoachID', 'Score', 'Foul', 'Free Kick', 'Pass', 'Duel', 'Save attempt',\n",
       "       'Clearance', 'Acceleration', 'Free kick shot', 'Penalty', 'Corner',\n",
       "       'Shot', 'PassStatus', 'DuelStatus', 'OpponentFoul', 'OpponentFree Kick',\n",
       "       'OpponentPass', 'OpponentDuel', 'OpponentSave attempt',\n",
       "       'OpponentClearance', 'OpponentAcceleration', 'OpponentFree kick shot',\n",
       "       'OpponentPenalty', 'OpponentCorner', 'OpponentShot',\n",
       "       'OpponentPassStatus', 'OpponentDuelStatus', 'PassAccuracy',\n",
       "       'DuelAccuracy', 'OpponentPassAccuracy', 'OpponentDuelAccuracy'],\n",
       "      dtype='object')"
      ]
     },
     "execution_count": 288,
     "metadata": {},
     "output_type": "execute_result"
    }
   ],
   "source": [
    "clearData.columns"
   ]
  },
  {
   "cell_type": "markdown",
   "metadata": {},
   "source": [
    "### Bartlett's test of sphericity"
   ]
  },
  {
   "cell_type": "code",
   "execution_count": 307,
   "metadata": {},
   "outputs": [
    {
     "data": {
      "text/plain": [
       "(1278.6788182572463, 2.038875704687801e-84)"
      ]
     },
     "execution_count": 307,
     "metadata": {},
     "output_type": "execute_result"
    }
   ],
   "source": [
    "from factor_analyzer.factor_analyzer import calculate_bartlett_sphericity\n",
    "chi_square_value,p_value=calculate_bartlett_sphericity(clearData[target])\n",
    "chi_square_value, p_value"
   ]
  },
  {
   "cell_type": "markdown",
   "metadata": {},
   "source": [
    "### Kaiser-Meyer-Olkin (KMO) Test\n",
    "measures the suitability of data for factor analysis. It determines the adequacy for each observed variable and for the complete model. KMO estimates the proportion of variance among all the observed variable. Lower proportion id more suitable for factor analysis. KMO values range between 0 and 1. Value of KMO less than 0.6 is considered inadequate.(就是kmo值要大于0.6,我们好像还差那么一点）"
   ]
  },
  {
   "cell_type": "code",
   "execution_count": 306,
   "metadata": {},
   "outputs": [
    {
     "name": "stdout",
     "output_type": "stream",
     "text": [
      "0.5435579059163805\n"
     ]
    }
   ],
   "source": [
    "from factor_analyzer.factor_analyzer import calculate_kmo\n",
    "kmo_all,kmo_model=calculate_kmo(clearData[target])\n",
    "print(kmo_model)"
   ]
  },
  {
   "cell_type": "code",
   "execution_count": 298,
   "metadata": {},
   "outputs": [
    {
     "name": "stdout",
     "output_type": "stream",
     "text": [
      "公因子方差:\n",
      " [0.38858516 0.42355793 0.8502298  0.85660921 0.5919697  0.60256719\n",
      " 0.31932297 0.42158052 0.40155006 0.60882962 0.59405634 0.8399997\n",
      " 0.85283596 0.74478187 0.68857674 0.91402032 0.83887039 0.66010399\n",
      " 0.67083396 0.31640168 0.3997817  0.29687188 0.53746713 0.71520128\n",
      " 0.89438065 0.92389463 0.73609645 0.73069832 0.89609397 0.86493277]\n",
      "\n",
      "成分矩阵:\n",
      " [[-0.05028463  0.53826917  0.1237878   0.19719384  0.20521716]\n",
      " [ 0.33534921  0.38118505  0.23352234  0.29775772 -0.15034778]\n",
      " [ 0.83402341 -0.10800535  0.23058386 -0.26957633  0.13087885]\n",
      " [ 0.46449143  0.73906792 -0.18676622 -0.24103142 -0.04071562]\n",
      " [-0.4859051  -0.07265496  0.08387898 -0.34826356  0.47144884]\n",
      " [-0.43183643  0.32572434 -0.53807885  0.03462542  0.13878174]\n",
      " [ 0.40444885  0.21721242 -0.29414272 -0.02348444  0.14659947]\n",
      " [-0.05276271 -0.19654869  0.1937123   0.44156961  0.3842617 ]\n",
      " [-0.02206725  0.21274604 -0.03690823  0.57436486 -0.15666847]\n",
      " [ 0.57862927 -0.37432719  0.17381143  0.15067962 -0.2845737 ]\n",
      " [ 0.60584616 -0.41374631  0.09686946  0.14748468 -0.15711566]\n",
      " [ 0.82381507 -0.21105122  0.12739936 -0.28275852  0.14353688]\n",
      " [ 0.67741459  0.45428644 -0.40792753 -0.13179589  0.06159737]\n",
      " [ 0.20471443 -0.00626561  0.42095985  0.4603002   0.56013493]\n",
      " [-0.16457051  0.78345747 -0.21066251  0.05364947 -0.02075371]\n",
      " [-0.898155   -0.21616091 -0.17698727 -0.11284822 -0.1286591 ]\n",
      " [ 0.33090173  0.73409513  0.37588571 -0.2206635   0.02227842]\n",
      " [ 0.32814846 -0.09129929  0.00140155  0.73590074  0.05035032]\n",
      " [ 0.655908   -0.23108719  0.29371688 -0.0702239  -0.30986507]\n",
      " [-0.14032313 -0.39720143  0.15839695 -0.14862145  0.30292605]\n",
      " [-0.30069669  0.00670846  0.0383851  -0.01497166  0.55463558]\n",
      " [ 0.11631877  0.13824315 -0.23067693  0.39709166  0.23094811]\n",
      " [-0.66943841  0.18155132 -0.10388852  0.2059042  -0.05629481]\n",
      " [-0.74062329 -0.07396829  0.04627042 -0.29609562  0.26719571]\n",
      " [-0.89649077 -0.26363972 -0.05110027 -0.05276009 -0.12563513]\n",
      " [-0.12561847  0.68406896  0.63991407 -0.16217753 -0.0661266 ]\n",
      " [ 0.67486171 -0.37714584 -0.16137845 -0.28253427  0.18041763]\n",
      " [ 0.62256682 -0.24412729 -0.48140938  0.13621706  0.18221048]\n",
      " [-0.88797513 -0.14692558 -0.06174212  0.13937766 -0.25053703]\n",
      " [-0.55362971  0.02075384  0.74484629  0.02974853 -0.04811672]]\n",
      "\n",
      "解释的总方差（即贡献率）:\n",
      " (array([8.85607984, 4.03546799, 2.60379535, 2.32851122, 1.7568475 ]), array([0.29520266, 0.1345156 , 0.08679318, 0.07761704, 0.05856158]), array([0.29520266, 0.42971826, 0.51651144, 0.59412848, 0.65269006]))\n"
     ]
    }
   ],
   "source": [
    "import factor_analyzer\n",
    "fa = factor_analyzer.FactorAnalyzer(n_factors=5, method='principal',rotation=None) #固定公共因子个数为5个\n",
    "fa.fit(clearData[target])\n",
    "print(\"公因子方差:\\n\", fa.get_communalities())#公因子方差\n",
    "print(\"\\n成分矩阵:\\n\", fa.loadings_)#成分矩阵\n",
    "var = fa.get_factor_variance()#给出贡献率\n",
    "print(\"\\n解释的总方差（即贡献率）:\\n\", var)"
   ]
  },
  {
   "cell_type": "code",
   "execution_count": 299,
   "metadata": {},
   "outputs": [
    {
     "ename": "AttributeError",
     "evalue": "'FactorAnalyzer' object has no attribute 'get_scores'",
     "output_type": "error",
     "traceback": [
      "\u001b[0;31m---------------------------------------------------------------------------\u001b[0m",
      "\u001b[0;31mAttributeError\u001b[0m                            Traceback (most recent call last)",
      "\u001b[0;32m<ipython-input-299-a6c85424a0b1>\u001b[0m in \u001b[0;36m<module>\u001b[0;34m\u001b[0m\n\u001b[0;32m----> 1\u001b[0;31m \u001b[0mfa_score\u001b[0m \u001b[0;34m=\u001b[0m \u001b[0mfa\u001b[0m\u001b[0;34m.\u001b[0m\u001b[0mget_scores\u001b[0m\u001b[0;34m(\u001b[0m\u001b[0mdata\u001b[0m\u001b[0;34m)\u001b[0m\u001b[0;31m#因子得分\u001b[0m\u001b[0;34m\u001b[0m\u001b[0;34m\u001b[0m\u001b[0m\n\u001b[0m\u001b[1;32m      2\u001b[0m \u001b[0mfa_score\u001b[0m\u001b[0;34m.\u001b[0m\u001b[0mhead\u001b[0m\u001b[0;34m(\u001b[0m\u001b[0;34m)\u001b[0m\u001b[0;34m\u001b[0m\u001b[0;34m\u001b[0m\u001b[0m\n",
      "\u001b[0;31mAttributeError\u001b[0m: 'FactorAnalyzer' object has no attribute 'get_scores'"
     ]
    }
   ],
   "source": [
    "fa_score = fa.get_scores(data)#因子得分\n",
    "fa_score.head()"
   ]
  },
  {
   "cell_type": "code",
   "execution_count": 295,
   "metadata": {},
   "outputs": [
    {
     "name": "stdout",
     "output_type": "stream",
     "text": [
      "Help on module factor_analyzer.factor_analyzer in factor_analyzer:\n",
      "\n",
      "NAME\n",
      "    factor_analyzer.factor_analyzer\n",
      "\n",
      "DESCRIPTION\n",
      "    Factor analysis using MINRES or ML,\n",
      "    with optional rotation using Varimax or Promax.\n",
      "    \n",
      "    :author: Jeremy Biggs (jbiggs@ets.org)\n",
      "    :date: 10/25/2017\n",
      "    :organization: ETS\n",
      "\n",
      "CLASSES\n",
      "    sklearn.base.BaseEstimator(builtins.object)\n",
      "        FactorAnalyzer(sklearn.base.BaseEstimator, sklearn.base.TransformerMixin)\n",
      "    sklearn.base.TransformerMixin(builtins.object)\n",
      "        FactorAnalyzer(sklearn.base.BaseEstimator, sklearn.base.TransformerMixin)\n",
      "    \n",
      "    class FactorAnalyzer(sklearn.base.BaseEstimator, sklearn.base.TransformerMixin)\n",
      "     |  FactorAnalyzer(n_factors=3, rotation='promax', method='minres', use_smc=True, is_corr_matrix=False, bounds=(0.005, 1), impute='median', rotation_kwargs=None)\n",
      "     |  \n",
      "     |  A FactorAnalyzer class, which -\n",
      "     |      (1) Fits a factor analysis model using minres, maximum likelihood,\n",
      "     |          or principal factor extraction and returns the loading matrix\n",
      "     |      (2) Optionally performs a rotation, with method including:\n",
      "     |  \n",
      "     |          (a) varimax (orthogonal rotation)\n",
      "     |          (b) promax (oblique rotation)\n",
      "     |          (c) oblimin (oblique rotation)\n",
      "     |          (d) oblimax (orthogonal rotation)\n",
      "     |          (e) quartimin (oblique rotation)\n",
      "     |          (f) quartimax (orthogonal rotation)\n",
      "     |          (g) equamax (orthogonal rotation)\n",
      "     |  \n",
      "     |  Parameters\n",
      "     |  ----------\n",
      "     |  n_factors : int, optional\n",
      "     |      The number of factors to select.\n",
      "     |      Defaults to 3.\n",
      "     |  rotation : str, optional\n",
      "     |      The type of rotation to perform after\n",
      "     |      fitting the factor analysis model.\n",
      "     |      If set to None, no rotation will be performed,\n",
      "     |      nor will any associated Kaiser normalization.\n",
      "     |  \n",
      "     |      Methods include:\n",
      "     |  \n",
      "     |          (a) varimax (orthogonal rotation)\n",
      "     |          (b) promax (oblique rotation)\n",
      "     |          (c) oblimin (oblique rotation)\n",
      "     |          (d) oblimax (orthogonal rotation)\n",
      "     |          (e) quartimin (oblique rotation)\n",
      "     |          (f) quartimax (orthogonal rotation)\n",
      "     |          (g) equamax (orthogonal rotation)\n",
      "     |  \n",
      "     |      Defaults to 'promax'.\n",
      "     |  \n",
      "     |  method : {'minres', 'ml', 'principal'}, optional\n",
      "     |      The fitting method to use, either MINRES or\n",
      "     |      Maximum Likelihood.\n",
      "     |      Defaults to 'minres'.\n",
      "     |  use_smc : bool, optional\n",
      "     |      Whether to use squared multiple correlation\n",
      "     |      as starting guesses for factor analysis.\n",
      "     |      Defaults to True.\n",
      "     |  bounds : tuple, optional\n",
      "     |      The lower and upper bounds on the variables\n",
      "     |      for \"L-BFGS-B\" optimization.\n",
      "     |      Defaults to (0.005, 1).\n",
      "     |  impute : {'drop', 'mean', 'median'}, optional\n",
      "     |      If missing values are present in the data, either use\n",
      "     |      list-wise deletion ('drop') or impute the column median\n",
      "     |      ('median') or column mean ('mean').\n",
      "     |  use_corr_matrix : bool, optional\n",
      "     |      Set to true if the `data` is the correlation\n",
      "     |      matrix.\n",
      "     |      Defaults to False.\n",
      "     |  rotation_kwargs, optional\n",
      "     |      Additional key word arguments\n",
      "     |      are passed to the rotation method.\n",
      "     |  \n",
      "     |  Attributes\n",
      "     |  ----------\n",
      "     |  loadings : numpy array\n",
      "     |      The factor loadings matrix.\n",
      "     |      Default to None, if `analyze()` has not\n",
      "     |      been called.\n",
      "     |  corr : numpy array\n",
      "     |      The original correlation matrix.\n",
      "     |      Default to None, if `analyze()` has not\n",
      "     |      been called.\n",
      "     |  rotation_matrix : numpy array\n",
      "     |      The rotation matrix, if a rotation\n",
      "     |      has been performed.\n",
      "     |  structure :numpy array or None\n",
      "     |      The structure loading matrix.\n",
      "     |      This only exists if the rotation\n",
      "     |      is promax.\n",
      "     |  psi : numpy array or None\n",
      "     |      The factor correlations\n",
      "     |      matrix. This only exists\n",
      "     |      if the rotation is oblique.\n",
      "     |  \n",
      "     |  Notes\n",
      "     |  -----\n",
      "     |  This code was partly derived from the excellent R package\n",
      "     |  `psych`.\n",
      "     |  \n",
      "     |  References\n",
      "     |  ----------\n",
      "     |  [1] https://github.com/cran/psych/blob/master/R/fa.R\n",
      "     |  \n",
      "     |  Examples\n",
      "     |  --------\n",
      "     |  >>> import pandas as pd\n",
      "     |  >>> from factor_analyzer import FactorAnalyzer\n",
      "     |  >>> df_features = pd.read_csv('tests/data/test02.csv')\n",
      "     |  >>> fa = FactorAnalyzer(rotation=None)\n",
      "     |  >>> fa.fit(df_features)\n",
      "     |  FactorAnalyzer(bounds=(0.005, 1), impute='median', is_corr_matrix=False,\n",
      "     |          method='minres', n_factors=3, rotation=None, rotation_kwargs={},\n",
      "     |          use_smc=True)\n",
      "     |  >>> fa.loadings_\n",
      "     |  array([[-0.12991218,  0.16398154,  0.73823498],\n",
      "     |         [ 0.03899558,  0.04658425,  0.01150343],\n",
      "     |         [ 0.34874135,  0.61452341, -0.07255667],\n",
      "     |         [ 0.45318006,  0.71926681, -0.07546472],\n",
      "     |         [ 0.36688794,  0.44377343, -0.01737067],\n",
      "     |         [ 0.74141382, -0.15008235,  0.29977512],\n",
      "     |         [ 0.741675  , -0.16123009, -0.20744495],\n",
      "     |         [ 0.82910167, -0.20519428,  0.04930817],\n",
      "     |         [ 0.76041819, -0.23768727, -0.1206858 ],\n",
      "     |         [ 0.81533404, -0.12494695,  0.17639683]])\n",
      "     |  >>> fa.get_communalities()\n",
      "     |  array([0.588758  , 0.00382308, 0.50452402, 0.72841183, 0.33184336,\n",
      "     |         0.66208428, 0.61911036, 0.73194557, 0.64929612, 0.71149718])\n",
      "     |  \n",
      "     |  Method resolution order:\n",
      "     |      FactorAnalyzer\n",
      "     |      sklearn.base.BaseEstimator\n",
      "     |      sklearn.base.TransformerMixin\n",
      "     |      builtins.object\n",
      "     |  \n",
      "     |  Methods defined here:\n",
      "     |  \n",
      "     |  __init__(self, n_factors=3, rotation='promax', method='minres', use_smc=True, is_corr_matrix=False, bounds=(0.005, 1), impute='median', rotation_kwargs=None)\n",
      "     |      Initialize self.  See help(type(self)) for accurate signature.\n",
      "     |  \n",
      "     |  fit(self, X, y=None)\n",
      "     |      Fit the factor analysis model using either\n",
      "     |      minres, ml, or principal solutions. By default, use SMC\n",
      "     |      as starting guesses.\n",
      "     |      \n",
      "     |      Parameters\n",
      "     |      ----------\n",
      "     |      X : array-like\n",
      "     |          The data to analyze.\n",
      "     |      y : ignored\n",
      "     |      \n",
      "     |      Examples\n",
      "     |      --------\n",
      "     |      >>> import pandas as pd\n",
      "     |      >>> from factor_analyzer import FactorAnalyzer\n",
      "     |      >>> df_features = pd.read_csv('tests/data/test02.csv')\n",
      "     |      >>> fa = FactorAnalyzer(rotation=None)\n",
      "     |      >>> fa.fit(df_features)\n",
      "     |      FactorAnalyzer(bounds=(0.005, 1), impute='median', is_corr_matrix=False,\n",
      "     |              method='minres', n_factors=3, rotation=None, rotation_kwargs={},\n",
      "     |              use_smc=True)\n",
      "     |      >>> fa.loadings_\n",
      "     |      array([[-0.12991218,  0.16398154,  0.73823498],\n",
      "     |             [ 0.03899558,  0.04658425,  0.01150343],\n",
      "     |             [ 0.34874135,  0.61452341, -0.07255667],\n",
      "     |             [ 0.45318006,  0.71926681, -0.07546472],\n",
      "     |             [ 0.36688794,  0.44377343, -0.01737067],\n",
      "     |             [ 0.74141382, -0.15008235,  0.29977512],\n",
      "     |             [ 0.741675  , -0.16123009, -0.20744495],\n",
      "     |             [ 0.82910167, -0.20519428,  0.04930817],\n",
      "     |             [ 0.76041819, -0.23768727, -0.1206858 ],\n",
      "     |             [ 0.81533404, -0.12494695,  0.17639683]])\n",
      "     |  \n",
      "     |  get_communalities(self)\n",
      "     |      Calculate the communalities, given the\n",
      "     |      factor loading matrix.\n",
      "     |      \n",
      "     |      Returns\n",
      "     |      -------\n",
      "     |      communalities : numpy array\n",
      "     |          The communalities from the factor loading\n",
      "     |          matrix.\n",
      "     |      \n",
      "     |      Examples\n",
      "     |      --------\n",
      "     |      >>> import pandas as pd\n",
      "     |      >>> from factor_analyzer import FactorAnalyzer\n",
      "     |      >>> df_features = pd.read_csv('tests/data/test02.csv')\n",
      "     |      >>> fa = FactorAnalyzer(rotation=None)\n",
      "     |      >>> fa.fit(df_features)\n",
      "     |      FactorAnalyzer(bounds=(0.005, 1), impute='median', is_corr_matrix=False,\n",
      "     |              method='minres', n_factors=3, rotation=None, rotation_kwargs={},\n",
      "     |              use_smc=True)\n",
      "     |      >>> fa.get_communalities()\n",
      "     |      array([0.588758  , 0.00382308, 0.50452402, 0.72841183, 0.33184336,\n",
      "     |             0.66208428, 0.61911036, 0.73194557, 0.64929612, 0.71149718])\n",
      "     |  \n",
      "     |  get_eigenvalues(self)\n",
      "     |      Calculate the eigenvalues, given the\n",
      "     |      factor correlation matrix.\n",
      "     |      \n",
      "     |      Returns\n",
      "     |      -------\n",
      "     |      original_eigen_values : numpy array\n",
      "     |          The original eigen values\n",
      "     |      common_factor_eigen_values : numpy array\n",
      "     |          The common factor eigen values\n",
      "     |      \n",
      "     |      Examples\n",
      "     |      --------\n",
      "     |      >>> import pandas as pd\n",
      "     |      >>> from factor_analyzer import FactorAnalyzer\n",
      "     |      >>> df_features = pd.read_csv('tests/data/test02.csv')\n",
      "     |      >>> fa = FactorAnalyzer(rotation=None)\n",
      "     |      >>> fa.fit(df_features)\n",
      "     |      FactorAnalyzer(bounds=(0.005, 1), impute='median', is_corr_matrix=False,\n",
      "     |              method='minres', n_factors=3, rotation=None, rotation_kwargs={},\n",
      "     |              use_smc=True)\n",
      "     |      >>> fa.get_eigenvalues()\n",
      "     |      (array([ 3.51018854,  1.28371018,  0.73739507,  0.1334704 ,  0.03445558,\n",
      "     |              0.0102918 , -0.00740013, -0.03694786, -0.05959139, -0.07428112]),\n",
      "     |       array([ 3.51018905,  1.2837105 ,  0.73739508,  0.13347082,  0.03445601,\n",
      "     |              0.01029184, -0.0074    , -0.03694834, -0.05959057, -0.07428059]))\n",
      "     |  \n",
      "     |  get_factor_variance(self)\n",
      "     |      Calculate the factor variance information,\n",
      "     |      including variance, proportional variance\n",
      "     |      and cumulative variance for each factor\n",
      "     |      \n",
      "     |      Returns\n",
      "     |      -------\n",
      "     |      variance : numpy array\n",
      "     |          The factor variances.\n",
      "     |      proportional_variance : numpy array\n",
      "     |          The proportional factor variances.\n",
      "     |      cumulative_variances : numpy array\n",
      "     |          The cumulative factor variances.\n",
      "     |      \n",
      "     |      Examples\n",
      "     |      --------\n",
      "     |      >>> import pandas as pd\n",
      "     |      >>> from factor_analyzer import FactorAnalyzer\n",
      "     |      >>> df_features = pd.read_csv('tests/data/test02.csv')\n",
      "     |      >>> fa = FactorAnalyzer(rotation=None)\n",
      "     |      >>> fa.fit(df_features)\n",
      "     |      FactorAnalyzer(bounds=(0.005, 1), impute='median', is_corr_matrix=False,\n",
      "     |              method='minres', n_factors=3, rotation=None, rotation_kwargs={},\n",
      "     |              use_smc=True)\n",
      "     |      >>> # 1. Sum of squared loadings (variance)\n",
      "     |      ... # 2. Proportional variance\n",
      "     |      ... # 3. Cumulative variance\n",
      "     |      >>> fa.get_factor_variance()\n",
      "     |      (array([3.51018854, 1.28371018, 0.73739507]),\n",
      "     |       array([0.35101885, 0.12837102, 0.07373951]),\n",
      "     |       array([0.35101885, 0.47938987, 0.55312938]))\n",
      "     |  \n",
      "     |  get_uniquenesses(self)\n",
      "     |      Calculate the uniquenesses, given the\n",
      "     |      factor loading matrix.\n",
      "     |      \n",
      "     |      Returns\n",
      "     |      -------\n",
      "     |      uniquenesses : numpy array\n",
      "     |          The uniquenesses from the factor loading\n",
      "     |          matrix.\n",
      "     |      \n",
      "     |      Examples\n",
      "     |      --------\n",
      "     |      >>> import pandas as pd\n",
      "     |      >>> from factor_analyzer import FactorAnalyzer\n",
      "     |      >>> df_features = pd.read_csv('tests/data/test02.csv')\n",
      "     |      >>> fa = FactorAnalyzer(rotation=None)\n",
      "     |      >>> fa.fit(df_features)\n",
      "     |      FactorAnalyzer(bounds=(0.005, 1), impute='median', is_corr_matrix=False,\n",
      "     |              method='minres', n_factors=3, rotation=None, rotation_kwargs={},\n",
      "     |              use_smc=True)\n",
      "     |      >>> fa.get_uniquenesses()\n",
      "     |      array([0.411242  , 0.99617692, 0.49547598, 0.27158817, 0.66815664,\n",
      "     |             0.33791572, 0.38088964, 0.26805443, 0.35070388, 0.28850282])\n",
      "     |  \n",
      "     |  transform(self, X)\n",
      "     |      Get the factor scores for new data set.\n",
      "     |      \n",
      "     |      Parameters\n",
      "     |      ----------\n",
      "     |      X : array-like, shape (n_samples, n_features)\n",
      "     |          The data to score using the fitted factor model.\n",
      "     |      \n",
      "     |      Returns\n",
      "     |      -------\n",
      "     |      X_new : numpy array, shape (n_samples, n_components)\n",
      "     |          The latent variables of X.\n",
      "     |      \n",
      "     |      Examples\n",
      "     |      --------\n",
      "     |      >>> import pandas as pd\n",
      "     |      >>> from factor_analyzer import FactorAnalyzer\n",
      "     |      >>> df_features = pd.read_csv('tests/data/test02.csv')\n",
      "     |      >>> fa = FactorAnalyzer(rotation=None)\n",
      "     |      >>> fa.fit(df_features)\n",
      "     |      FactorAnalyzer(bounds=(0.005, 1), impute='median', is_corr_matrix=False,\n",
      "     |              method='minres', n_factors=3, rotation=None, rotation_kwargs={},\n",
      "     |              use_smc=True)\n",
      "     |      >>> fa.transform(df_features)\n",
      "     |      array([[-1.05141425,  0.57687826,  0.1658788 ],\n",
      "     |             [-1.59940101,  0.89632125,  0.03824552],\n",
      "     |             [-1.21768164, -1.16319406,  0.57135189],\n",
      "     |             ...,\n",
      "     |             [ 0.13601554,  0.03601086,  0.28813877],\n",
      "     |             [ 1.86904519, -0.3532394 , -0.68170573],\n",
      "     |             [ 0.86133386,  0.18280695, -0.79170903]])\n",
      "     |  \n",
      "     |  ----------------------------------------------------------------------\n",
      "     |  Methods inherited from sklearn.base.BaseEstimator:\n",
      "     |  \n",
      "     |  __getstate__(self)\n",
      "     |  \n",
      "     |  __repr__(self, N_CHAR_MAX=700)\n",
      "     |      Return repr(self).\n",
      "     |  \n",
      "     |  __setstate__(self, state)\n",
      "     |  \n",
      "     |  get_params(self, deep=True)\n",
      "     |      Get parameters for this estimator.\n",
      "     |      \n",
      "     |      Parameters\n",
      "     |      ----------\n",
      "     |      deep : bool, default=True\n",
      "     |          If True, will return the parameters for this estimator and\n",
      "     |          contained subobjects that are estimators.\n",
      "     |      \n",
      "     |      Returns\n",
      "     |      -------\n",
      "     |      params : mapping of string to any\n",
      "     |          Parameter names mapped to their values.\n",
      "     |  \n",
      "     |  set_params(self, **params)\n",
      "     |      Set the parameters of this estimator.\n",
      "     |      \n",
      "     |      The method works on simple estimators as well as on nested objects\n",
      "     |      (such as pipelines). The latter have parameters of the form\n",
      "     |      ``<component>__<parameter>`` so that it's possible to update each\n",
      "     |      component of a nested object.\n",
      "     |      \n",
      "     |      Parameters\n",
      "     |      ----------\n",
      "     |      **params : dict\n",
      "     |          Estimator parameters.\n",
      "     |      \n",
      "     |      Returns\n",
      "     |      -------\n",
      "     |      self : object\n",
      "     |          Estimator instance.\n",
      "     |  \n",
      "     |  ----------------------------------------------------------------------\n",
      "     |  Data descriptors inherited from sklearn.base.BaseEstimator:\n",
      "     |  \n",
      "     |  __dict__\n",
      "     |      dictionary for instance variables (if defined)\n",
      "     |  \n",
      "     |  __weakref__\n",
      "     |      list of weak references to the object (if defined)\n",
      "     |  \n",
      "     |  ----------------------------------------------------------------------\n",
      "     |  Methods inherited from sklearn.base.TransformerMixin:\n",
      "     |  \n",
      "     |  fit_transform(self, X, y=None, **fit_params)\n",
      "     |      Fit to data, then transform it.\n",
      "     |      \n",
      "     |      Fits transformer to X and y with optional parameters fit_params\n",
      "     |      and returns a transformed version of X.\n",
      "     |      \n",
      "     |      Parameters\n",
      "     |      ----------\n",
      "     |      X : numpy array of shape [n_samples, n_features]\n",
      "     |          Training set.\n",
      "     |      \n",
      "     |      y : numpy array of shape [n_samples]\n",
      "     |          Target values.\n",
      "     |      \n",
      "     |      **fit_params : dict\n",
      "     |          Additional fit parameters.\n",
      "     |      \n",
      "     |      Returns\n",
      "     |      -------\n",
      "     |      X_new : numpy array of shape [n_samples, n_features_new]\n",
      "     |          Transformed array.\n",
      "\n",
      "FUNCTIONS\n",
      "    calculate_bartlett_sphericity(x)\n",
      "        Test the hypothesis that the correlation matrix\n",
      "        is equal to the identity matrix.identity\n",
      "        \n",
      "        H0: The matrix of population correlations is equal to I.\n",
      "        H1: The matrix of population correlations is not equal to I.\n",
      "        \n",
      "        The formula for Bartlett's Sphericity test is:\n",
      "        \n",
      "        .. math:: -1 * (n - 1 - ((2p + 5) / 6)) * ln(det(R))\n",
      "        \n",
      "        Where R det(R) is the determinant of the correlation matrix,\n",
      "        and p is the number of variables.\n",
      "        \n",
      "        Parameters\n",
      "        ----------\n",
      "        x : array-like\n",
      "            The array from which to calculate sphericity.\n",
      "        \n",
      "        Returns\n",
      "        -------\n",
      "        statistic : float\n",
      "            The chi-square value.\n",
      "        p_value : float\n",
      "            The associated p-value for the test.\n",
      "    \n",
      "    calculate_kmo(x)\n",
      "        Calculate the Kaiser-Meyer-Olkin criterion\n",
      "        for items and overall. This statistic represents\n",
      "        the degree to which each observed variable is\n",
      "        predicted, without error, by the other variables\n",
      "        in the dataset. In general, a KMO < 0.6 is considered\n",
      "        inadequate.\n",
      "        \n",
      "        Parameters\n",
      "        ----------\n",
      "        x : array-like\n",
      "            The array from which to calculate KMOs.\n",
      "        \n",
      "        Returns\n",
      "        -------\n",
      "        kmo_per_variable : numpy array\n",
      "            The KMO score per item.\n",
      "        kmo_total : float\n",
      "            The KMO score overall.\n",
      "\n",
      "DATA\n",
      "    OBLIQUE_ROTATIONS = ['promax', 'oblimin', 'quartimin']\n",
      "    POSSIBLE_IMPUTATIONS = ['mean', 'median', 'drop']\n",
      "    POSSIBLE_METHODS = ['ml', 'mle', 'uls', 'minres', 'principal']\n",
      "    POSSIBLE_ROTATIONS = ['varimax', 'oblimax', 'quartimax', 'equamax', 'p...\n",
      "    chi2 = <scipy.stats._continuous_distns.chi2_gen object>\n",
      "\n",
      "FILE\n",
      "    /usr/local/lib/python3.7/site-packages/factor_analyzer/factor_analyzer.py\n",
      "\n",
      "\n"
     ]
    }
   ],
   "source": [
    "help(factor_analyzer.factor_analyzer)"
   ]
  }
 ],
 "metadata": {
  "kernelspec": {
   "display_name": "Python 3",
   "language": "python",
   "name": "python3"
  },
  "language_info": {
   "codemirror_mode": {
    "name": "ipython",
    "version": 3
   },
   "file_extension": ".py",
   "mimetype": "text/x-python",
   "name": "python",
   "nbconvert_exporter": "python",
   "pygments_lexer": "ipython3",
   "version": "3.6.7"
  }
 },
 "nbformat": 4,
 "nbformat_minor": 2
}
